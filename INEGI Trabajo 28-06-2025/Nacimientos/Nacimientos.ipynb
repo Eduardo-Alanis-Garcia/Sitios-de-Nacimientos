{
 "cells": [
  {
   "cell_type": "code",
   "execution_count": null,
   "id": "3a2f03cf-8e8c-4ae2-9d33-7888e9ef564e",
   "metadata": {},
   "outputs": [],
   "source": []
  },
  {
   "cell_type": "code",
   "execution_count": 73,
   "id": "0aa8789a-d3d0-4860-8724-8b5e94ffee6c",
   "metadata": {},
   "outputs": [
    {
     "name": "stdout",
     "output_type": "stream",
     "text": [
      "   ENT_REGIS  MUN_REGIS  LOC_REGIS  TLOC_REGIS  ENT_RESID  MUN_RESID  \\\n",
      "0          1          1          1          15          1          1   \n",
      "1          1          1          1          15          1          1   \n",
      "2          1         11          1           7          1         11   \n",
      "3          1          5          1          11          1          1   \n",
      "4          1         10          1           5          1         10   \n",
      "\n",
      "   LOC_RESID  TLOC_RESID  ENT_OCURR  MUN_OCURR  LOC_OCURR  TLOC_OCURR  SEXO  \\\n",
      "0       9999          99          1          1       9999          99     2   \n",
      "1          1          15          1          1          1          15     2   \n",
      "2          1           7          1          1          1          15     1   \n",
      "3          1          15          1          1          1          15     1   \n",
      "4       7777           1          1          1          1          15     1   \n",
      "\n",
      "   EDAD_REG  EDAD_MADN  EDAD_PADN  DIA_NAC  MES_NAC  ANO_NAC  DIA_REG  \\\n",
      "0        99         99         99       99       99     9999        3   \n",
      "1         1         21         99       19        3     2021       28   \n",
      "2        98         32         33        4        3     2023       14   \n",
      "3        98         29         33        6        3     2023       10   \n",
      "4        98         33         99       22        3     2023        4   \n",
      "\n",
      "   MES_REG  ANO_REG  EDAD_MADR  EDAD_PADR  TIPO_NAC  ORDEN_PART  LUGAR_PART  \\\n",
      "0       10     2023         99         99         1           1           9   \n",
      "1        2     2023         22         99         1           1           1   \n",
      "2        3     2023         32         33         1           2           2   \n",
      "3        4     2023         29         33         1           3           1   \n",
      "4        4     2023         33         99         2           3           1   \n",
      "\n",
      "   Q_ATENDIO  HIJOS_VIVO  HIJOS_SOBR  EDOCIV_MAD  ESCOL_MAD  ESCOL_PAD  \\\n",
      "0          9           1          99           9          9          5   \n",
      "1          1           1           1           1          5          9   \n",
      "2          1           2           2           2          7          7   \n",
      "3          1           2           2           3          5          5   \n",
      "4          1           4           4           2          6          7   \n",
      "\n",
      "   ACT_MAD  ACT_PAD  POS_MAD  POS_PAD  SITLAB_MAD  SITLAB_PAD  FUE_PRESE  \\\n",
      "0        9        1        9        2           9           1          2   \n",
      "1        1        9        2        9           1           9          1   \n",
      "2        1        1        2        2           1           1          1   \n",
      "3        1        1        2        2           1           1          1   \n",
      "4        2        1        9        2           3           1          1   \n",
      "\n",
      "   HORA_NAC  MINUTO_NAC  COMPARECIO  DIS_RE_OAX  \n",
      "0        99          99           9         999  \n",
      "1        21          16           2         999  \n",
      "2        18          58           3         999  \n",
      "3        23          16           3         999  \n",
      "4        16          40           3         999  \n"
     ]
    }
   ],
   "source": [
    "import pandas as pd\n",
    "\n",
    "df_nacim = pd.read_csv('nacim23.csv')\n",
    "\n",
    "# Configurar pandas para mostrar todas las columnas\n",
    "pd.set_option('display.max_columns', None)\n",
    "\n",
    "# Mostrar solo las primeras 5 filas\n",
    "print(df_nacim.head(5))"
   ]
  },
  {
   "cell_type": "code",
   "execution_count": 63,
   "id": "e12397b9-b956-4cd4-9b5d-461d8226b6d9",
   "metadata": {},
   "outputs": [
    {
     "data": {
      "text/plain": [
       "(1820888, 44)"
      ]
     },
     "execution_count": 63,
     "metadata": {},
     "output_type": "execute_result"
    }
   ],
   "source": [
    "df_nacim.shape"
   ]
  },
  {
   "cell_type": "code",
   "execution_count": null,
   "id": "646ccf13-2e8b-4ca9-8936-ddb63f7fce3b",
   "metadata": {},
   "outputs": [],
   "source": []
  }
 ],
 "metadata": {
  "kernelspec": {
   "display_name": "Python [conda env:base] *",
   "language": "python",
   "name": "conda-base-py"
  },
  "language_info": {
   "codemirror_mode": {
    "name": "ipython",
    "version": 3
   },
   "file_extension": ".py",
   "mimetype": "text/x-python",
   "name": "python",
   "nbconvert_exporter": "python",
   "pygments_lexer": "ipython3",
   "version": "3.12.7"
  }
 },
 "nbformat": 4,
 "nbformat_minor": 5
}
